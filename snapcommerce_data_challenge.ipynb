{
  "nbformat": 4,
  "nbformat_minor": 0,
  "metadata": {
    "colab": {
      "name": "snapcommerce data challenge",
      "provenance": []
    },
    "kernelspec": {
      "name": "python3",
      "display_name": "Python 3"
    },
    "language_info": {
      "name": "python"
    }
  },
  "cells": [
    {
      "cell_type": "code",
      "metadata": {
        "colab": {
          "base_uri": "https://localhost:8080/",
          "height": 204
        },
        "id": "qMva7hR3UwW3",
        "outputId": "30220aa8-1b2b-49c3-8d82-e5aa0f709a41"
      },
      "source": [
        "import pandas as pd # importing pandas for dataframe  \n",
        "import io #IO library so we can treat a string as a file\n",
        "import re #Python library to work with regex\n",
        "import math\n",
        "\n",
        "\n",
        "# Creating table with the seperator ;\n",
        "data =  'Airline Code;DelayTimes;FlightCodes;To_From\\nAir Canada (!);[21, 40];20015.0;WAterLoo_NEWYork\\n<Air France> (12);[];;Montreal_TORONTO\\n(Porter Airways. );[60, 22, 87];20035.0;CALgary_Ottawa\\n12. Air France;[78, 66];;Ottawa_VANcouvER\\n\"\"\".\\\\.Lufthansa.\\\\.\"\"\";[12, 33];20055.0;london_MONTreal\\n'\n",
        "#turning the string into a file format\n",
        "data = io.StringIO(data)\n",
        "df = pd.read_csv(data, sep=\";\") # reads in the csv\n",
        "df # shows the data frame "
      ],
      "execution_count": 190,
      "outputs": [
        {
          "output_type": "execute_result",
          "data": {
            "text/html": [
              "<div>\n",
              "<style scoped>\n",
              "    .dataframe tbody tr th:only-of-type {\n",
              "        vertical-align: middle;\n",
              "    }\n",
              "\n",
              "    .dataframe tbody tr th {\n",
              "        vertical-align: top;\n",
              "    }\n",
              "\n",
              "    .dataframe thead th {\n",
              "        text-align: right;\n",
              "    }\n",
              "</style>\n",
              "<table border=\"1\" class=\"dataframe\">\n",
              "  <thead>\n",
              "    <tr style=\"text-align: right;\">\n",
              "      <th></th>\n",
              "      <th>Airline Code</th>\n",
              "      <th>DelayTimes</th>\n",
              "      <th>FlightCodes</th>\n",
              "      <th>To_From</th>\n",
              "    </tr>\n",
              "  </thead>\n",
              "  <tbody>\n",
              "    <tr>\n",
              "      <th>0</th>\n",
              "      <td>Air Canada (!)</td>\n",
              "      <td>[21, 40]</td>\n",
              "      <td>20015.0</td>\n",
              "      <td>WAterLoo_NEWYork</td>\n",
              "    </tr>\n",
              "    <tr>\n",
              "      <th>1</th>\n",
              "      <td>&lt;Air France&gt; (12)</td>\n",
              "      <td>[]</td>\n",
              "      <td>NaN</td>\n",
              "      <td>Montreal_TORONTO</td>\n",
              "    </tr>\n",
              "    <tr>\n",
              "      <th>2</th>\n",
              "      <td>(Porter Airways. )</td>\n",
              "      <td>[60, 22, 87]</td>\n",
              "      <td>20035.0</td>\n",
              "      <td>CALgary_Ottawa</td>\n",
              "    </tr>\n",
              "    <tr>\n",
              "      <th>3</th>\n",
              "      <td>12. Air France</td>\n",
              "      <td>[78, 66]</td>\n",
              "      <td>NaN</td>\n",
              "      <td>Ottawa_VANcouvER</td>\n",
              "    </tr>\n",
              "    <tr>\n",
              "      <th>4</th>\n",
              "      <td>\".\\.Lufthansa.\\.\"</td>\n",
              "      <td>[12, 33]</td>\n",
              "      <td>20055.0</td>\n",
              "      <td>london_MONTreal</td>\n",
              "    </tr>\n",
              "  </tbody>\n",
              "</table>\n",
              "</div>"
            ],
            "text/plain": [
              "         Airline Code    DelayTimes  FlightCodes           To_From\n",
              "0      Air Canada (!)      [21, 40]      20015.0  WAterLoo_NEWYork\n",
              "1   <Air France> (12)            []          NaN  Montreal_TORONTO\n",
              "2  (Porter Airways. )  [60, 22, 87]      20035.0    CALgary_Ottawa\n",
              "3      12. Air France      [78, 66]          NaN  Ottawa_VANcouvER\n",
              "4   \".\\.Lufthansa.\\.\"      [12, 33]      20055.0   london_MONTreal"
            ]
          },
          "metadata": {
            "tags": []
          },
          "execution_count": 190
        }
      ]
    },
    {
      "cell_type": "code",
      "metadata": {
        "id": "Hv2UmejJyYNt"
      },
      "source": [
        ""
      ],
      "execution_count": 190,
      "outputs": []
    },
    {
      "cell_type": "code",
      "metadata": {
        "colab": {
          "base_uri": "https://localhost:8080/",
          "height": 204
        },
        "id": "p-a8iSQUXP-h",
        "outputId": "c73082a3-1391-440a-a83d-495e4a7a6739"
      },
      "source": [
        "#Updating the Null values of FlightCodes \n",
        "\n",
        "# We could've use the .interpolate()(which finds the mean of the previous + next record of a NaN value and and fills the NaN with mean value)\n",
        "# function and it would've given us the same answer however, I assumed that this table is not static and I wanted to take care of the edge cases\n",
        "# where the first row might be NaN.\n",
        "lis = list(df['FlightCodes']) # turning the column into a list\n",
        "for x in range(len(lis)):\n",
        "  if (math.isnan(lis[0]) == True): # takes care of the edge case if the first record is NaN and the second record is NOT NaN (this would make the function more complicated)\n",
        "    lis[x] = lis[x+1] - 10\n",
        "  elif (math.isnan(lis[x]) == True): # adds 10 \n",
        "    lis[x] = lis[x-1] + 10\n",
        "\n",
        "df['FlightCodes'] = lis # setting the list as the new column of FlightCodes\n",
        "df = df.astype({\"FlightCodes\": int}) # changing the from floating point to int64 type \n",
        "df\n"
      ],
      "execution_count": 191,
      "outputs": [
        {
          "output_type": "execute_result",
          "data": {
            "text/html": [
              "<div>\n",
              "<style scoped>\n",
              "    .dataframe tbody tr th:only-of-type {\n",
              "        vertical-align: middle;\n",
              "    }\n",
              "\n",
              "    .dataframe tbody tr th {\n",
              "        vertical-align: top;\n",
              "    }\n",
              "\n",
              "    .dataframe thead th {\n",
              "        text-align: right;\n",
              "    }\n",
              "</style>\n",
              "<table border=\"1\" class=\"dataframe\">\n",
              "  <thead>\n",
              "    <tr style=\"text-align: right;\">\n",
              "      <th></th>\n",
              "      <th>Airline Code</th>\n",
              "      <th>DelayTimes</th>\n",
              "      <th>FlightCodes</th>\n",
              "      <th>To_From</th>\n",
              "    </tr>\n",
              "  </thead>\n",
              "  <tbody>\n",
              "    <tr>\n",
              "      <th>0</th>\n",
              "      <td>Air Canada (!)</td>\n",
              "      <td>[21, 40]</td>\n",
              "      <td>20015</td>\n",
              "      <td>WAterLoo_NEWYork</td>\n",
              "    </tr>\n",
              "    <tr>\n",
              "      <th>1</th>\n",
              "      <td>&lt;Air France&gt; (12)</td>\n",
              "      <td>[]</td>\n",
              "      <td>20025</td>\n",
              "      <td>Montreal_TORONTO</td>\n",
              "    </tr>\n",
              "    <tr>\n",
              "      <th>2</th>\n",
              "      <td>(Porter Airways. )</td>\n",
              "      <td>[60, 22, 87]</td>\n",
              "      <td>20035</td>\n",
              "      <td>CALgary_Ottawa</td>\n",
              "    </tr>\n",
              "    <tr>\n",
              "      <th>3</th>\n",
              "      <td>12. Air France</td>\n",
              "      <td>[78, 66]</td>\n",
              "      <td>20045</td>\n",
              "      <td>Ottawa_VANcouvER</td>\n",
              "    </tr>\n",
              "    <tr>\n",
              "      <th>4</th>\n",
              "      <td>\".\\.Lufthansa.\\.\"</td>\n",
              "      <td>[12, 33]</td>\n",
              "      <td>20055</td>\n",
              "      <td>london_MONTreal</td>\n",
              "    </tr>\n",
              "  </tbody>\n",
              "</table>\n",
              "</div>"
            ],
            "text/plain": [
              "         Airline Code    DelayTimes  FlightCodes           To_From\n",
              "0      Air Canada (!)      [21, 40]        20015  WAterLoo_NEWYork\n",
              "1   <Air France> (12)            []        20025  Montreal_TORONTO\n",
              "2  (Porter Airways. )  [60, 22, 87]        20035    CALgary_Ottawa\n",
              "3      12. Air France      [78, 66]        20045  Ottawa_VANcouvER\n",
              "4   \".\\.Lufthansa.\\.\"      [12, 33]        20055   london_MONTreal"
            ]
          },
          "metadata": {
            "tags": []
          },
          "execution_count": 191
        }
      ]
    },
    {
      "cell_type": "code",
      "metadata": {
        "colab": {
          "base_uri": "https://localhost:8080/",
          "height": 204
        },
        "id": "Ugb2Jcc_pCsz",
        "outputId": "0440f9d5-69ec-4c3f-a044-40b446488fdb"
      },
      "source": [
        "\n",
        "# making the to and from column more readable \n",
        "new = df[\"To_From\"].str.split(\"_\", n = 1, expand = True)#splits on '_'\n",
        "df[\"To\"] = new[0] # setting the first new column as the To column \n",
        "df[\"From\"] = new[1]# setting the second new column as the To column \n",
        "df.drop(columns =[\"To_From\"], inplace = True) # drops the old To_From column\n",
        "\n",
        "#Function to clean up the names of the cities\n",
        "def clean_city (city):\n",
        "    city = city.lower()\n",
        "    city = city.capitalize()\n",
        "    return city\n",
        "\n",
        "# applies the function clean_city to every record in the To and From column\n",
        "df['To']= df['To'].apply(clean_city) \n",
        "df['From']= df['From'].apply(clean_city)\n",
        "df\n",
        "\n",
        "\n",
        "\n",
        "\n"
      ],
      "execution_count": 192,
      "outputs": [
        {
          "output_type": "execute_result",
          "data": {
            "text/html": [
              "<div>\n",
              "<style scoped>\n",
              "    .dataframe tbody tr th:only-of-type {\n",
              "        vertical-align: middle;\n",
              "    }\n",
              "\n",
              "    .dataframe tbody tr th {\n",
              "        vertical-align: top;\n",
              "    }\n",
              "\n",
              "    .dataframe thead th {\n",
              "        text-align: right;\n",
              "    }\n",
              "</style>\n",
              "<table border=\"1\" class=\"dataframe\">\n",
              "  <thead>\n",
              "    <tr style=\"text-align: right;\">\n",
              "      <th></th>\n",
              "      <th>Airline Code</th>\n",
              "      <th>DelayTimes</th>\n",
              "      <th>FlightCodes</th>\n",
              "      <th>To</th>\n",
              "      <th>From</th>\n",
              "    </tr>\n",
              "  </thead>\n",
              "  <tbody>\n",
              "    <tr>\n",
              "      <th>0</th>\n",
              "      <td>Air Canada (!)</td>\n",
              "      <td>[21, 40]</td>\n",
              "      <td>20015</td>\n",
              "      <td>Waterloo</td>\n",
              "      <td>Newyork</td>\n",
              "    </tr>\n",
              "    <tr>\n",
              "      <th>1</th>\n",
              "      <td>&lt;Air France&gt; (12)</td>\n",
              "      <td>[]</td>\n",
              "      <td>20025</td>\n",
              "      <td>Montreal</td>\n",
              "      <td>Toronto</td>\n",
              "    </tr>\n",
              "    <tr>\n",
              "      <th>2</th>\n",
              "      <td>(Porter Airways. )</td>\n",
              "      <td>[60, 22, 87]</td>\n",
              "      <td>20035</td>\n",
              "      <td>Calgary</td>\n",
              "      <td>Ottawa</td>\n",
              "    </tr>\n",
              "    <tr>\n",
              "      <th>3</th>\n",
              "      <td>12. Air France</td>\n",
              "      <td>[78, 66]</td>\n",
              "      <td>20045</td>\n",
              "      <td>Ottawa</td>\n",
              "      <td>Vancouver</td>\n",
              "    </tr>\n",
              "    <tr>\n",
              "      <th>4</th>\n",
              "      <td>\".\\.Lufthansa.\\.\"</td>\n",
              "      <td>[12, 33]</td>\n",
              "      <td>20055</td>\n",
              "      <td>London</td>\n",
              "      <td>Montreal</td>\n",
              "    </tr>\n",
              "  </tbody>\n",
              "</table>\n",
              "</div>"
            ],
            "text/plain": [
              "         Airline Code    DelayTimes  FlightCodes        To       From\n",
              "0      Air Canada (!)      [21, 40]        20015  Waterloo    Newyork\n",
              "1   <Air France> (12)            []        20025  Montreal    Toronto\n",
              "2  (Porter Airways. )  [60, 22, 87]        20035   Calgary     Ottawa\n",
              "3      12. Air France      [78, 66]        20045    Ottawa  Vancouver\n",
              "4   \".\\.Lufthansa.\\.\"      [12, 33]        20055    London   Montreal"
            ]
          },
          "metadata": {
            "tags": []
          },
          "execution_count": 192
        }
      ]
    },
    {
      "cell_type": "code",
      "metadata": {
        "colab": {
          "base_uri": "https://localhost:8080/",
          "height": 204
        },
        "id": "9wS3ylUw0hma",
        "outputId": "b1fbb6e7-08e8-4287-80c7-f27f674dacc4"
      },
      "source": [
        "#cleans up the Airline Code by removing punctuation, brackets and numbers \n",
        "def clean_airline (text):\n",
        "  text = re.sub(r'([z0-9_])+','',text)#removes numbers\n",
        "  text = re.sub(r\"[^\\w\\s]\", '', text)#remove punctuation\n",
        "\n",
        "  return text\n",
        "\n",
        "#applies the function to the Airline Code column\n",
        "df['Airline Code']= df['Airline Code'].apply(clean_airline)\n",
        "df\n"
      ],
      "execution_count": 193,
      "outputs": [
        {
          "output_type": "execute_result",
          "data": {
            "text/html": [
              "<div>\n",
              "<style scoped>\n",
              "    .dataframe tbody tr th:only-of-type {\n",
              "        vertical-align: middle;\n",
              "    }\n",
              "\n",
              "    .dataframe tbody tr th {\n",
              "        vertical-align: top;\n",
              "    }\n",
              "\n",
              "    .dataframe thead th {\n",
              "        text-align: right;\n",
              "    }\n",
              "</style>\n",
              "<table border=\"1\" class=\"dataframe\">\n",
              "  <thead>\n",
              "    <tr style=\"text-align: right;\">\n",
              "      <th></th>\n",
              "      <th>Airline Code</th>\n",
              "      <th>DelayTimes</th>\n",
              "      <th>FlightCodes</th>\n",
              "      <th>To</th>\n",
              "      <th>From</th>\n",
              "    </tr>\n",
              "  </thead>\n",
              "  <tbody>\n",
              "    <tr>\n",
              "      <th>0</th>\n",
              "      <td>Air Canada</td>\n",
              "      <td>[21, 40]</td>\n",
              "      <td>20015</td>\n",
              "      <td>Waterloo</td>\n",
              "      <td>Newyork</td>\n",
              "    </tr>\n",
              "    <tr>\n",
              "      <th>1</th>\n",
              "      <td>Air France</td>\n",
              "      <td>[]</td>\n",
              "      <td>20025</td>\n",
              "      <td>Montreal</td>\n",
              "      <td>Toronto</td>\n",
              "    </tr>\n",
              "    <tr>\n",
              "      <th>2</th>\n",
              "      <td>Porter Airways</td>\n",
              "      <td>[60, 22, 87]</td>\n",
              "      <td>20035</td>\n",
              "      <td>Calgary</td>\n",
              "      <td>Ottawa</td>\n",
              "    </tr>\n",
              "    <tr>\n",
              "      <th>3</th>\n",
              "      <td>Air France</td>\n",
              "      <td>[78, 66]</td>\n",
              "      <td>20045</td>\n",
              "      <td>Ottawa</td>\n",
              "      <td>Vancouver</td>\n",
              "    </tr>\n",
              "    <tr>\n",
              "      <th>4</th>\n",
              "      <td>Lufthansa</td>\n",
              "      <td>[12, 33]</td>\n",
              "      <td>20055</td>\n",
              "      <td>London</td>\n",
              "      <td>Montreal</td>\n",
              "    </tr>\n",
              "  </tbody>\n",
              "</table>\n",
              "</div>"
            ],
            "text/plain": [
              "      Airline Code    DelayTimes  FlightCodes        To       From\n",
              "0      Air Canada       [21, 40]        20015  Waterloo    Newyork\n",
              "1      Air France             []        20025  Montreal    Toronto\n",
              "2  Porter Airways   [60, 22, 87]        20035   Calgary     Ottawa\n",
              "3       Air France      [78, 66]        20045    Ottawa  Vancouver\n",
              "4        Lufthansa      [12, 33]        20055    London   Montreal"
            ]
          },
          "metadata": {
            "tags": []
          },
          "execution_count": 193
        }
      ]
    },
    {
      "cell_type": "code",
      "metadata": {
        "id": "7ANHnPWnAJCS"
      },
      "source": [
        "#mock SQL query on the above table to find all flights leaving from Waterloo\n",
        "\n",
        "Select * from data \n",
        "where data.From = 'Waterloo'"
      ],
      "execution_count": null,
      "outputs": []
    }
  ]
}